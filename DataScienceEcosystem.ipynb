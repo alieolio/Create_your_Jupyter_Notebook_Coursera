{
 "cells": [
  {
   "cell_type": "markdown",
   "id": "5b775797-30ed-4e41-8018-9d4ab47a2fea",
   "metadata": {
    "tags": []
   },
   "source": [
    "# Data Science Tools and Ecosystem"
   ]
  },
  {
   "cell_type": "markdown",
   "id": "d19cecb2-bf0b-4877-b8ea-45d61c4c5d8a",
   "metadata": {},
   "source": [
    "In this notebook, Data Science Tools and Ecosystem are summarized."
   ]
  },
  {
   "cell_type": "markdown",
   "id": "0b495622-5749-475a-b739-8a394c24a90c",
   "metadata": {},
   "source": [
    "**Objectives:**\n",
    "- Popular languages used for Data Science\n",
    "- Libraries commonly used for Data Science\n",
    "- Table of Data Science tools\n",
    "- Calculating arithmetic expressions"
   ]
  },
  {
   "cell_type": "markdown",
   "id": "2d79237c-9fdd-42d2-b595-29bc2b91b181",
   "metadata": {},
   "source": [
    "Some of the popular languages that Data Scientists use are:\n",
    "1. Python\n",
    "2. SQL\n",
    "3. R"
   ]
  },
  {
   "cell_type": "markdown",
   "id": "870ce04a-60cc-4423-a1ca-b0f43037e30e",
   "metadata": {},
   "source": [
    "Some of the commonly used libraries used by Data Scientists include:\n",
    "1. Pandas\n",
    "2. PyTorch\n",
    "3. TensorFlow"
   ]
  },
  {
   "cell_type": "markdown",
   "id": "997cdddb-86af-4f99-b9bb-920090e493be",
   "metadata": {},
   "source": [
    "| Data Science Tools|\n",
    "|------|\n",
    "| Git |\n",
    "| Apache Subversion |\n",
    "| Eclipse IDE |"
   ]
  },
  {
   "cell_type": "markdown",
   "id": "3e298eeb-56a6-403f-94a8-93fea8166ae0",
   "metadata": {},
   "source": [
    "### Below are a few examples of evaluating arithmetic expression in Python"
   ]
  },
  {
   "cell_type": "code",
   "execution_count": 1,
   "id": "cca29f18-0f13-4a54-9242-c7a509eb406d",
   "metadata": {
    "tags": []
   },
   "outputs": [
    {
     "data": {
      "text/plain": [
       "17"
      ]
     },
     "execution_count": 1,
     "metadata": {},
     "output_type": "execute_result"
    }
   ],
   "source": [
    "# This is a simple arithmetic expression to multiply then add integers\n",
    "(3*4)+5"
   ]
  },
  {
   "cell_type": "code",
   "execution_count": 2,
   "id": "75db02ea-0a08-404a-bc56-870e00aed32a",
   "metadata": {
    "tags": []
   },
   "outputs": [
    {
     "data": {
      "text/plain": [
       "3.3333333333333335"
      ]
     },
     "execution_count": 2,
     "metadata": {},
     "output_type": "execute_result"
    }
   ],
   "source": [
    "# This will convert 200 minutes to hours by dividing by 60\n",
    "200/60"
   ]
  },
  {
   "cell_type": "markdown",
   "id": "8eaae73c-7684-4d3a-828a-4929fe4fdeb2",
   "metadata": {},
   "source": [
    "## Author\n",
    "Alicia Chung"
   ]
  }
 ],
 "metadata": {
  "kernelspec": {
   "display_name": "Python",
   "language": "python",
   "name": "conda-env-python-py"
  },
  "language_info": {
   "codemirror_mode": {
    "name": "ipython",
    "version": 3
   },
   "file_extension": ".py",
   "mimetype": "text/x-python",
   "name": "python",
   "nbconvert_exporter": "python",
   "pygments_lexer": "ipython3",
   "version": "3.7.12"
  }
 },
 "nbformat": 4,
 "nbformat_minor": 5
}
